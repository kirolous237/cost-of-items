{
  "cells": [
    {
      "cell_type": "code",
      "source": [
        "item_1=50\n",
        "item_2=35\n",
        "item_3=25.5\n",
        "total_budget=100\n",
        "total_cost=item_1+item_2+item_3\n",
        "if total_budget<=total_cost:\n",
        "   money_needed=total_cost-total_budget\n",
        "   print(\"the total cost is: \",total_cost)\n",
        "   print(\"the total budget is: \",total_budget)\n",
        "   print(\"you need \",money_needed,\"over your budget\")\n",
        "else:\n",
        "    money_reminded=total_budget-total_cost\n",
        "    print(\"the total cost is: \",total_cost)\n",
        "    print(\"the total budget is: \",total_budget)\n",
        "    print(\"money reminded: \",money_reminded)"
      ],
      "metadata": {
        "colab": {
          "base_uri": "https://localhost:8080/"
        },
        "id": "E6JpC8clL50k",
        "outputId": "db5cc490-501f-4414-c72c-c45d4dfb7fd1"
      },
      "execution_count": null,
      "outputs": [
        {
          "output_type": "stream",
          "name": "stdout",
          "text": [
            "the total cost is:  110.5\n",
            "the total budget is:  100\n",
            "you need  10.5 over your budget\n"
          ]
        }
      ]
    }
  ],
  "metadata": {
    "colab": {
      "toc_visible": true,
      "provenance": []
    },
    "kernelspec": {
      "display_name": "Python 3",
      "name": "python3"
    }
  },
  "nbformat": 4,
  "nbformat_minor": 0
}